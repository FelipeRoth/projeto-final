{
 "cells": [
  {
   "cell_type": "code",
   "execution_count": 13,
   "metadata": {},
   "outputs": [],
   "source": [
    "import random\n",
    "import sqlite3 as sql\n",
    "conn = sql.Connection('../curiosidades.db')"
   ]
  },
  {
   "cell_type": "code",
   "execution_count": 21,
   "metadata": {},
   "outputs": [
    {
     "name": "stdout",
     "output_type": "stream",
     "text": [
      "2\n",
      "Halloween (1978)\n",
      "A famosa máscara usada pelo assassino em série Michael Myers não é uma peça original criada para o filme. Na verdade, trata-se de uma máscara do Capitão Kirk, de Star Trek, e custou apenas 2 dólares.\n",
      "2.jpg\n",
      "bobinha\n"
     ]
    }
   ],
   "source": [
    "def curisidade_aleatoria():\n",
    "    id = '''\n",
    "        SELECT id\n",
    "        FROM curiosidades\n",
    "    '''\n",
    "\n",
    "    id = conn.execute(id)\n",
    "    quantos_id = 0\n",
    "    for _ in id:\n",
    "        quantos_id = quantos_id + 1\n",
    "\n",
    "    id_aleatorio = random.randrange(1, quantos_id+1)\n",
    "\n",
    "    print(id_aleatorio)\n",
    "\n",
    "    sql_select_a_curiosidade = f'''\n",
    "        SELECT filme, fato, img, nome AS nome_categoria\n",
    "        FROM curiosidades\n",
    "        JOIN categorias ON id_categoria == categorias.id\n",
    "        WHERE curiosidades.id LIKE {id_aleatorio};\n",
    "    '''\n",
    "    a_curiosidade = conn.execute(sql_select_a_curiosidade)\n",
    "    return a_curiosidade\n",
    "\n",
    "for elemento in curisidade_aleatoria():\n",
    "    print(elemento[0])\n",
    "    print(elemento[1])\n",
    "    print(elemento[2])\n",
    "    print(elemento[3])\n"
   ]
  },
  {
   "cell_type": "code",
   "execution_count": 121,
   "metadata": {},
   "outputs": [
    {
     "name": "stdout",
     "output_type": "stream",
     "text": [
      "Titanic (1997)\n",
      "O orçamento para do filme foi maior do que o custo para construir o próprio navio.\n",
      "1.jpg\n",
      "surprendente\n",
      "Halloween (1978)\n",
      "A famosa máscara usada pelo assassino em série Michael Myers não é uma peça original criada para o filme. Na verdade, trata-se de uma máscara do Capitão Kirk, de Star Trek, e custou apenas 2 dólares.\n",
      "2.jpg\n",
      "bobinha\n",
      "Batman: O Retorno (1992)\n",
      "A roupa de Mulher-Gato usada por Michelle Pfeiffer era tão apertada que fazia a atriz sofrer uma série de desmaios durante as gravações.\n",
      "3.jpg\n",
      "chocante\n"
     ]
    }
   ],
   "source": [
    "sql_select_curiosidades = '''\n",
    "    SELECT filme, fato, img, nome AS nome_categoria\n",
    "    FROM curiosidades\n",
    "    JOIN categorias ON id_categoria == categorias.id;\n",
    "'''\n",
    "with sql.Connection('../curiosidades.db') as conn:\n",
    "        lista_de_curiosidades = conn.execute(sql_select_curiosidades)\n",
    "    \n",
    "curiosidades = lista_de_curiosidades\n",
    "\n",
    "for curiosidade in curiosidades:\n",
    "    print(curiosidade[0])\n",
    "    print(curiosidade[1])\n",
    "    print(curiosidade[2])\n",
    "    print(curiosidade[3])"
   ]
  }
 ],
 "metadata": {
  "kernelspec": {
   "display_name": ".venv",
   "language": "python",
   "name": "python3"
  },
  "language_info": {
   "codemirror_mode": {
    "name": "ipython",
    "version": 3
   },
   "file_extension": ".py",
   "mimetype": "text/x-python",
   "name": "python",
   "nbconvert_exporter": "python",
   "pygments_lexer": "ipython3",
   "version": "3.12.6"
  }
 },
 "nbformat": 4,
 "nbformat_minor": 2
}
